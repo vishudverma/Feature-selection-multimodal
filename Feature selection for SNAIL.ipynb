{
 "cells": [
  {
   "cell_type": "code",
   "execution_count": 1,
   "id": "458f5b28-561f-40fd-8344-3fbf3354c701",
   "metadata": {
    "tags": []
   },
   "outputs": [
    {
     "name": "stdout",
     "output_type": "stream",
     "text": [
      "Done!\n"
     ]
    }
   ],
   "source": [
    "import os\n",
    "import torch\n",
    "import numpy as np\n",
    "import pandas as pd\n",
    "import torch.nn as nn\n",
    "import torch.optim as optim\n",
    "import matplotlib.pyplot as plt\n",
    "import torchvision.models as models\n",
    "from sklearn.metrics import accuracy_score\n",
    "from sklearn.preprocessing import LabelEncoder\n",
    "from sklearn.feature_selection import SelectKBest, chi2\n",
    "print('Done!')"
   ]
  },
  {
   "cell_type": "code",
   "execution_count": 3,
   "id": "edca4f39-c903-4e4a-a5a2-cf844b092cae",
   "metadata": {},
   "outputs": [
    {
     "name": "stdout",
     "output_type": "stream",
     "text": [
      "Done!\n"
     ]
    }
   ],
   "source": [
    "# Load of all the .csv files containing extracted image features\n",
    "data_USG = pd.read_csv(\"Features/Ultrasound features.csv\")\n",
    "data_MMG = pd.read_csv(\"Features/Mammogram features.csv\")\n",
    "data_multimodal = pd.read_csv(\"Features/multimodal features.csv\")\n",
    "print('Done!')"
   ]
  },
  {
   "cell_type": "code",
   "execution_count": 7,
   "id": "a80008d7-3689-43e3-ba73-b360613ce80d",
   "metadata": {},
   "outputs": [
    {
     "name": "stdout",
     "output_type": "stream",
     "text": [
      "Done!\n"
     ]
    }
   ],
   "source": [
    "#For one hot encoding the labels this tab is required\n",
    "class_mapping = {\n",
    "    'B': 0,\n",
    "    'M': 1,\n",
    "}\n",
    "num_classes = 2\n",
    "\n",
    "label_encoder = LabelEncoder()\n",
    "data_USG['Class'] = label_encoder.fit_transform(data_USG['Class'])\n",
    "data_MMG['Class'] = label_encoder.fit_transform(data_MMG['Class'])\n",
    "data_multimodal['Class'] = label_encoder.fit_transform(data_multimodal['Class'])\n",
    "print('Done!')"
   ]
  },
  {
   "cell_type": "code",
   "execution_count": 9,
   "id": "d46a3339-7f17-47df-81ff-deb120d1301a",
   "metadata": {},
   "outputs": [],
   "source": [
    "class SelfAttentionBlock(nn.Module):\n",
    "    def __init__(self, input_dim, output_dim, num_heads=4):\n",
    "        super(SelfAttentionBlock, self).__init__()\n",
    "        self.num_heads = num_heads\n",
    "        self.head_dim = input_dim // num_heads\n",
    "        \n",
    "        # Multihead self-attention mechanism\n",
    "        self.multihead_attention = nn.MultiheadAttention(input_dim, num_heads)\n",
    "        \n",
    "        # Feedforward neural network\n",
    "        self.feedforward = nn.Sequential(\n",
    "            nn.Linear(input_dim, output_dim),\n",
    "            nn.ReLU(),\n",
    "            nn.Linear(output_dim, input_dim)\n",
    "        )\n",
    "        \n",
    "        # Layer normalization\n",
    "        self.layer_norm1 = nn.LayerNorm(input_dim)\n",
    "        self.layer_norm2 = nn.LayerNorm(input_dim)\n",
    "        \n",
    "    def forward(self, x):\n",
    "        # Get the input shape dynamically\n",
    "        batch_size, feature_dim = x.size()\n",
    "        \n",
    "        # Reshape the input to include a sequence length dimension\n",
    "        x = x.view(batch_size, 1, feature_dim)\n",
    "        \n",
    "        # Apply layer normalization\n",
    "        x_norm = self.layer_norm1(x)\n",
    "        \n",
    "        # Multihead self-attention\n",
    "        attention_output, _ = self.multihead_attention(x_norm, x_norm, x_norm)\n",
    "        \n",
    "        # Residual connection and layer normalization\n",
    "        x_residual = x + attention_output\n",
    "        x_norm2 = self.layer_norm2(x_residual)\n",
    "        \n",
    "        # Remove the sequence length dimension\n",
    "        output = x_norm2.view(batch_size, feature_dim)\n",
    "        \n",
    "        # Feedforward network\n",
    "        output = self.feedforward(output)\n",
    "        \n",
    "        return output"
   ]
  },
  {
   "cell_type": "code",
   "execution_count": 11,
   "id": "1e04d06d-242a-4188-bd6e-9c555055729d",
   "metadata": {},
   "outputs": [],
   "source": [
    "class SNAILFewShot(nn.Module):\n",
    "    def __init__(self, input_dim, output_dim):\n",
    "        super(SNAILFewShot, self).__init__()\n",
    "        \n",
    "        # Define the SelfAttentionBlock\n",
    "        self.self_attention = SelfAttentionBlock(input_dim, output_dim)\n",
    "        \n",
    "        # Additional layers if needed for adaptation\n",
    "        self.fc1 = nn.Linear(input_dim, output_dim)\n",
    "        \n",
    "        # Classification layer for few-shot learning\n",
    "        self.fc2 = nn.Linear(output_dim, output_dim)  # Output dimension may vary\n",
    "        \n",
    "    def forward(self, x):\n",
    "        # Apply SelfAttentionBlock\n",
    "        x = self.self_attention(x)\n",
    "        \n",
    "        # Additional adaptation layers\n",
    "        x = self.fc1(x)\n",
    "        \n",
    "        # Classification layer\n",
    "        x = self.fc2(x)\n",
    "        \n",
    "        return x"
   ]
  },
  {
   "cell_type": "code",
   "execution_count": 23,
   "id": "0c18b651-7a0d-43ab-aede-eb7493b250f7",
   "metadata": {
    "tags": []
   },
   "outputs": [],
   "source": [
    "# Load the features and labels\n",
    "features_USG = data_USG.iloc[:, :-1].values  # Exclude the last column (labels)\n",
    "labels_USG = data_USG.iloc[:, -1].values  # Extract the labels\n",
    "\n",
    "# Create a SelectKBest object\n",
    "selector = SelectKBest(chi2, k=20)\n",
    "\n",
    "# Fit the selector to the features and labels\n",
    "selector.fit(features_USG, labels_USG)\n",
    "\n",
    "# Select the best features\n",
    "selected_features = selector.get_support()\n",
    "\n",
    "# Extract the selected features\n",
    "extracted_features = features_USG[:, selected_features]\n",
    "\n",
    "# Save the extracted features\n",
    "np.savetxt(\"extracted_features_USG.csv\", extracted_features, delimiter=\",\")"
   ]
  },
  {
   "cell_type": "code",
   "execution_count": 21,
   "id": "48fff925-58a2-49bd-ada8-2f5c072d32d1",
   "metadata": {
    "tags": []
   },
   "outputs": [
    {
     "name": "stdout",
     "output_type": "stream",
     "text": [
      "Epoch 1/10, Accuracy: 58.14%\n",
      "Epoch 2/10, Accuracy: 58.14%\n",
      "Epoch 3/10, Accuracy: 58.14%\n",
      "Epoch 4/10, Accuracy: 58.14%\n",
      "Epoch 5/10, Accuracy: 58.14%\n",
      "Epoch 6/10, Accuracy: 58.14%\n",
      "Epoch 7/10, Accuracy: 58.14%\n",
      "Epoch 8/10, Accuracy: 58.14%\n",
      "Epoch 9/10, Accuracy: 58.14%\n",
      "Epoch 10/10, Accuracy: 58.14%\n"
     ]
    }
   ],
   "source": [
    "# 1. Preprocess the data from the extracted_features.csv file\n",
    "# Load the extracted features from the CSV file\n",
    "extracted_features = np.loadtxt(\"extracted_features_USG.csv\", delimiter=\",\")\n",
    "\n",
    "# Select the first 20 features\n",
    "features_USG = extracted_features[:, :20]\n",
    "labels_USG = data_USG.iloc[:, -1].values\n",
    "\n",
    "# Convert the features and labels to PyTorch tensors\n",
    "input_data = torch.FloatTensor(features_USG)\n",
    "ground_truth_labels = torch.LongTensor(labels_USG)  # Assuming labels are 0 and 1\n",
    "\n",
    "# 2. Create an instance of the SNAILWithResNet model\n",
    "# Define the input dimension (20 features) and output dimension (2 for binary classification)\n",
    "input_dim = 20\n",
    "output_dim = 2\n",
    "snail_model = SNAILFewShot(input_dim, output_dim)\n",
    "\n",
    "# Define the number of epochs\n",
    "epochs = 10\n",
    "\n",
    "# 3. Training loop for multiple epochs\n",
    "for epoch in range(epochs):\n",
    "    # Pass the data to the model to obtain predictions\n",
    "    with torch.no_grad():\n",
    "        predictions = snail_model(input_data)\n",
    "\n",
    "    # 4. Evaluate the model's predictions for binary classification\n",
    "    # Apply a threshold (e.g., 0.5) to obtain binary predictions\n",
    "    threshold = 0.5\n",
    "    binary_predictions = (predictions[:, 1] > threshold).to(torch.int) # Assuming class 1 is the positive class\n",
    "\n",
    "    # Calculate accuracy\n",
    "    accuracy = accuracy_score(ground_truth_labels, binary_predictions)\n",
    "\n",
    "    # Print the accuracy as a whole number\n",
    "    print(f\"Epoch {epoch + 1}/{epochs}, Accuracy: {accuracy * 100:.2f}%\")"
   ]
  },
  {
   "cell_type": "code",
   "execution_count": 27,
   "id": "db625b91-3816-4075-bb42-2dca5195f1d7",
   "metadata": {
    "tags": []
   },
   "outputs": [],
   "source": [
    "# Load the features and labels\n",
    "features_MMG = data_MMG.iloc[:, :-1].values  # Exclude the last column (labels)\n",
    "labels_MMG = data_MMG.iloc[:, -1].values  # Extract the labels\n",
    "\n",
    "# Create a SelectKBest object\n",
    "selector = SelectKBest(chi2, k=20)\n",
    "\n",
    "# Fit the selector to the features and labels\n",
    "selector.fit(features_MMG, labels_MMG)\n",
    "\n",
    "# Select the best features\n",
    "selected_features = selector.get_support()\n",
    "\n",
    "# Extract the selected features\n",
    "extracted_features = features_USG[:, selected_features]\n",
    "\n",
    "# Save the extracted features\n",
    "np.savetxt(\"extracted_features_MMG.csv\", extracted_features, delimiter=\",\")"
   ]
  },
  {
   "cell_type": "code",
   "execution_count": 31,
   "id": "586bab5c-6502-4cb6-bbb9-d30b1400a7aa",
   "metadata": {
    "tags": []
   },
   "outputs": [
    {
     "name": "stdout",
     "output_type": "stream",
     "text": [
      "Epoch 1/10, Accuracy: 58.14%\n",
      "Epoch 2/10, Accuracy: 58.14%\n",
      "Epoch 3/10, Accuracy: 58.14%\n",
      "Epoch 4/10, Accuracy: 58.14%\n",
      "Epoch 5/10, Accuracy: 58.14%\n",
      "Epoch 6/10, Accuracy: 58.14%\n",
      "Epoch 7/10, Accuracy: 58.14%\n",
      "Epoch 8/10, Accuracy: 58.14%\n",
      "Epoch 9/10, Accuracy: 58.14%\n",
      "Epoch 10/10, Accuracy: 58.14%\n"
     ]
    }
   ],
   "source": [
    "# 1. Preprocess the data from the extracted_features.csv file\n",
    "# Load the extracted features from the CSV file\n",
    "extracted_features = np.loadtxt(\"extracted_features_MMG.csv\", delimiter=\",\")\n",
    "\n",
    "# Select the first 20 features\n",
    "features_MMG = extracted_features[:, :20]\n",
    "labels_MMG = data_MMG.iloc[:, -1].values\n",
    "\n",
    "# Convert the features and labels to PyTorch tensors\n",
    "input_data = torch.FloatTensor(features_MMG)\n",
    "ground_truth_labels = torch.LongTensor(labels_MMG)  # Assuming labels are 0 and 1\n",
    "\n",
    "# 2. Create an instance of the SNAILWithResNet model\n",
    "# Define the input dimension (20 features) and output dimension (2 for binary classification)\n",
    "input_dim = 20\n",
    "output_dim = 2\n",
    "snail_model = SNAILFewShot(input_dim, output_dim)\n",
    "\n",
    "# Define the number of epochs\n",
    "epochs = 10\n",
    "\n",
    "# 3. Training loop for multiple epochs\n",
    "for epoch in range(epochs):\n",
    "    # Pass the data to the model to obtain predictions\n",
    "    with torch.no_grad():\n",
    "        predictions = snail_model(input_data)\n",
    "\n",
    "    # 4. Evaluate the model's predictions for binary classification\n",
    "    # Apply a threshold (e.g., 0.5) to obtain binary predictions\n",
    "    threshold = 0.5\n",
    "    binary_predictions = (predictions[:, 1] > threshold).to(torch.int) # Assuming class 1 is the positive class\n",
    "\n",
    "    # Calculate accuracy\n",
    "    accuracy = accuracy_score(ground_truth_labels, binary_predictions)\n",
    "\n",
    "    # Print the accuracy as a whole number\n",
    "    print(f\"Epoch {epoch + 1}/{epochs}, Accuracy: {accuracy * 100:.2f}%\")"
   ]
  },
  {
   "cell_type": "code",
   "execution_count": 35,
   "id": "bb86f2de-24e9-482d-bfda-544cc02217e5",
   "metadata": {
    "tags": []
   },
   "outputs": [],
   "source": [
    "# Load the features and labels\n",
    "features = data_multimodal.iloc[:, :-1].values  # Exclude the last column (labels)\n",
    "labels = data_multimodal.iloc[:, -1].values  # Extract the labels\n",
    "\n",
    "# Create a SelectKBest object\n",
    "selector = SelectKBest(chi2, k=40)\n",
    "\n",
    "# Fit the selector to the features and labels\n",
    "selector.fit(features, labels)\n",
    "\n",
    "# Select the best features\n",
    "selected_features = selector.get_support()\n",
    "\n",
    "# Extract the selected features\n",
    "extracted_features = features[:, selected_features]\n",
    "\n",
    "# Save the extracted features\n",
    "np.savetxt(\"extracted_features_multimodal.csv\", extracted_features, delimiter=\",\")"
   ]
  },
  {
   "cell_type": "code",
   "execution_count": 45,
   "id": "34350583-2182-47da-bce6-574231b72c59",
   "metadata": {
    "tags": []
   },
   "outputs": [
    {
     "name": "stdout",
     "output_type": "stream",
     "text": [
      "Epoch 1/20, Accuracy: 58.14%\n",
      "Epoch 2/20, Accuracy: 58.14%\n",
      "Epoch 3/20, Accuracy: 58.14%\n",
      "Epoch 4/20, Accuracy: 58.14%\n",
      "Epoch 5/20, Accuracy: 58.14%\n",
      "Epoch 6/20, Accuracy: 58.14%\n",
      "Epoch 7/20, Accuracy: 58.14%\n",
      "Epoch 8/20, Accuracy: 58.14%\n",
      "Epoch 9/20, Accuracy: 58.14%\n",
      "Epoch 10/20, Accuracy: 58.14%\n",
      "Epoch 11/20, Accuracy: 58.14%\n",
      "Epoch 12/20, Accuracy: 58.14%\n",
      "Epoch 13/20, Accuracy: 58.14%\n",
      "Epoch 14/20, Accuracy: 58.14%\n",
      "Epoch 15/20, Accuracy: 58.14%\n",
      "Epoch 16/20, Accuracy: 58.14%\n",
      "Epoch 17/20, Accuracy: 58.14%\n",
      "Epoch 18/20, Accuracy: 58.14%\n",
      "Epoch 19/20, Accuracy: 58.14%\n",
      "Epoch 20/20, Accuracy: 58.14%\n"
     ]
    }
   ],
   "source": [
    "# 1. Preprocess the data from the extracted_features.csv file\n",
    "# Load the extracted features from the CSV file\n",
    "extracted_features = np.loadtxt(\"extracted_features_multimodal.csv\", delimiter=\",\")\n",
    "\n",
    "# Select the first 20 features\n",
    "features = extracted_features[:, :20]\n",
    "labels = data_multimodal.iloc[:, -1].values\n",
    "\n",
    "# Convert the features and labels to PyTorch tensors\n",
    "input_data = torch.FloatTensor(features)\n",
    "ground_truth_labels = torch.LongTensor(labels)  # Assuming labels are 0 and 1\n",
    "\n",
    "# 2. Create an instance of the SNAILWithResNet model\n",
    "# Define the input dimension (20 features) and output dimension (2 for binary classification)\n",
    "input_dim = 40\n",
    "output_dim = 2\n",
    "snail_model = SNAILFewShot(input_dim, output_dim)\n",
    "\n",
    "# Define the number of epochs\n",
    "epochs = 20\n",
    "\n",
    "# 3. Training loop for multiple epochs\n",
    "for epoch in range(epochs):\n",
    "    # Pass the data to the model to obtain predictions\n",
    "    with torch.no_grad():\n",
    "        predictions = snail_model(input_data)\n",
    "\n",
    "    # 4. Evaluate the model's predictions for binary classification\n",
    "    # Apply a threshold (e.g., 0.5) to obtain binary predictions\n",
    "    threshold = 0.5\n",
    "    binary_predictions = (predictions[:, 1] > threshold).to(torch.int) # Assuming class 1 is the positive class\n",
    "\n",
    "    # Calculate accuracy\n",
    "    accuracy = accuracy_score(ground_truth_labels, binary_predictions)\n",
    "\n",
    "    # Print the accuracy as a whole number\n",
    "    print(f\"Epoch {epoch + 1}/{epochs}, Accuracy: {accuracy * 100:.2f}%\")"
   ]
  },
  {
   "cell_type": "code",
   "execution_count": null,
   "id": "5d67351e-629e-427b-b5af-6da7f9053275",
   "metadata": {},
   "outputs": [],
   "source": []
  }
 ],
 "metadata": {
  "kernelspec": {
   "display_name": "Python 3 (ipykernel)",
   "language": "python",
   "name": "python3"
  },
  "language_info": {
   "codemirror_mode": {
    "name": "ipython",
    "version": 3
   },
   "file_extension": ".py",
   "mimetype": "text/x-python",
   "name": "python",
   "nbconvert_exporter": "python",
   "pygments_lexer": "ipython3",
   "version": "3.10.13"
  }
 },
 "nbformat": 4,
 "nbformat_minor": 5
}
